{
 "metadata": {
  "language_info": {
   "codemirror_mode": {
    "name": "ipython",
    "version": 3
   },
   "file_extension": ".py",
   "mimetype": "text/x-python",
   "name": "python",
   "nbconvert_exporter": "python",
   "pygments_lexer": "ipython3",
   "version": "3.8.5-final"
  },
  "orig_nbformat": 2,
  "kernelspec": {
   "name": "python3",
   "display_name": "Python 3",
   "language": "python"
  }
 },
 "nbformat": 4,
 "nbformat_minor": 2,
 "cells": [
  {
   "cell_type": "code",
   "execution_count": 58,
   "metadata": {},
   "outputs": [],
   "source": [
    "import tensorflow as tf\n",
    "from tensorflow.keras.datasets import fashion_mnist\n",
    "(train_x, train_y), (test_x, test_y) = fashion_mnist.load_data()"
   ]
  },
  {
   "cell_type": "code",
   "execution_count": 59,
   "metadata": {},
   "outputs": [
    {
     "output_type": "stream",
     "name": "stdout",
     "text": [
      "(60000, 28, 28)\n(60000,)\n"
     ]
    }
   ],
   "source": [
    "print(train_x.shape)\n",
    "print(train_y.shape)"
   ]
  },
  {
   "cell_type": "code",
   "execution_count": 60,
   "metadata": {},
   "outputs": [],
   "source": [
    "from tensorflow.keras import layers, metrics, optimizers, Model\n",
    "\n",
    "class MyModel(Model):\n",
    "    def __init__(self):\n",
    "        super(MyModel, self).__init__()\n",
    "        self.flatten = layers.Flatten(input_shape=(28, 28))\n",
    "        self.dense1 = layers.Dense(32, activation='relu')\n",
    "        self.dense2 = layers.Dense(10, activation='softmax')\n",
    "    def call(self, x):\n",
    "        x = self.flatten(x)\n",
    "        x = self.dense1(x)\n",
    "        return self.dense2(x)"
   ]
  },
  {
   "cell_type": "code",
   "execution_count": 61,
   "metadata": {},
   "outputs": [],
   "source": [
    "train_x, test_x = train_x / 255., test_x / 255."
   ]
  },
  {
   "cell_type": "code",
   "execution_count": 62,
   "metadata": {},
   "outputs": [],
   "source": [
    "model = MyModel()"
   ]
  },
  {
   "cell_type": "code",
   "execution_count": 63,
   "metadata": {},
   "outputs": [],
   "source": [
    "from tensorflow.keras import losses\n",
    "\n",
    "loss_obj = losses.SparseCategoricalCrossentropy()\n",
    "optimizer = optimizers.Adam()"
   ]
  },
  {
   "cell_type": "code",
   "execution_count": 64,
   "metadata": {},
   "outputs": [],
   "source": [
    "train_loss = metrics.Mean(name='train_loss')\n",
    "train_accuracy = metrics.SparseCategoricalAccuracy(name='train_accuracy')\n",
    "\n",
    "test_loss = metrics.Mean(name='test_loss')\n",
    "test_accuracy = metrics.SparseCategoricalAccuracy(name='test_accuracy')"
   ]
  },
  {
   "cell_type": "code",
   "execution_count": 65,
   "metadata": {},
   "outputs": [],
   "source": [
    "@tf.function\n",
    "def train_step(images, labels):\n",
    "    with tf.GradientTape() as tape:\n",
    "        predictions = model(images, training=True)\n",
    "        loss = loss_obj(labels, predictions)\n",
    "    gradients = tape.gradient(loss, model.trainable_variables)\n",
    "    optimizer.apply_gradients(zip(gradients, model.trainable_variables))\n",
    "\n",
    "    train_loss(loss)\n",
    "    train_accuracy(labels, predictions)"
   ]
  },
  {
   "cell_type": "code",
   "execution_count": 66,
   "metadata": {},
   "outputs": [],
   "source": [
    "@tf.function\n",
    "def test_step(images, labels):\n",
    "    predictions = model(images, training=False)\n",
    "    loss = loss_obj(labels, predictions)\n",
    "\n",
    "    test_loss(loss)\n",
    "    test_accuracy(labels, predictions)"
   ]
  },
  {
   "cell_type": "code",
   "execution_count": 67,
   "metadata": {},
   "outputs": [],
   "source": [
    "train_ds = tf.data.Dataset.from_tensor_slices((train_x, train_y)).shuffle(10000).batch(32)\n",
    "test_ds = tf.data.Dataset.from_tensor_slices((test_x, test_y)).batch(32)"
   ]
  },
  {
   "cell_type": "code",
   "execution_count": 68,
   "metadata": {
    "tags": []
   },
   "outputs": [
    {
     "output_type": "stream",
     "name": "stdout",
     "text": [
      "Epoch ==> 0\n",
      "loss: tf.Tensor(0.54599804, shape=(), dtype=float32) acc: tf.Tensor(0.8120833, shape=(), dtype=float32) val_loss: tf.Tensor(0.4647985, shape=(), dtype=float32) val_acc: tf.Tensor(0.8318, shape=(), dtype=float32)\n",
      "Epoch ==> 1\n",
      "loss: tf.Tensor(0.4134953, shape=(), dtype=float32) acc: tf.Tensor(0.85405, shape=(), dtype=float32) val_loss: tf.Tensor(0.43390346, shape=(), dtype=float32) val_acc: tf.Tensor(0.8418, shape=(), dtype=float32)\n",
      "Epoch ==> 2\n",
      "loss: tf.Tensor(0.38149646, shape=(), dtype=float32) acc: tf.Tensor(0.8622, shape=(), dtype=float32) val_loss: tf.Tensor(0.40960747, shape=(), dtype=float32) val_acc: tf.Tensor(0.853, shape=(), dtype=float32)\n",
      "Epoch ==> 3\n",
      "loss: tf.Tensor(0.3575212, shape=(), dtype=float32) acc: tf.Tensor(0.8717333, shape=(), dtype=float32) val_loss: tf.Tensor(0.37783873, shape=(), dtype=float32) val_acc: tf.Tensor(0.8646, shape=(), dtype=float32)\n",
      "Epoch ==> 4\n",
      "loss: tf.Tensor(0.33981755, shape=(), dtype=float32) acc: tf.Tensor(0.8767, shape=(), dtype=float32) val_loss: tf.Tensor(0.385645, shape=(), dtype=float32) val_acc: tf.Tensor(0.8607, shape=(), dtype=float32)\n"
     ]
    }
   ],
   "source": [
    "epochs = 5\n",
    "for epoch in range(epochs):\n",
    "    print('Epoch ==>', epoch)\n",
    "    train_accuracy.reset_states()\n",
    "    train_loss.reset_states()\n",
    "    test_accuracy.reset_states()\n",
    "    test_loss.reset_states()\n",
    "\n",
    "    for images, labels in train_ds:\n",
    "        train_step(images, labels)\n",
    "    for images, labels in test_ds:\n",
    "        test_step(images, labels)\n",
    "    print('loss:', train_loss.result(), 'acc:', train_accuracy.result(), 'val_loss:', test_loss.result(), 'val_acc:', test_accuracy.result())"
   ]
  },
  {
   "cell_type": "code",
   "execution_count": null,
   "metadata": {},
   "outputs": [],
   "source": []
  }
 ]
}