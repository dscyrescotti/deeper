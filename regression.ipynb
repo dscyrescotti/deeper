{
 "metadata": {
  "language_info": {
   "codemirror_mode": {
    "name": "ipython",
    "version": 3
   },
   "file_extension": ".py",
   "mimetype": "text/x-python",
   "name": "python",
   "nbconvert_exporter": "python",
   "pygments_lexer": "ipython3",
   "version": "3.8.5-final"
  },
  "orig_nbformat": 2,
  "kernelspec": {
   "name": "python3",
   "display_name": "Python 3",
   "language": "python"
  }
 },
 "nbformat": 4,
 "nbformat_minor": 2,
 "cells": [
  {
   "cell_type": "code",
   "execution_count": 1,
   "metadata": {},
   "outputs": [],
   "source": [
    "import pandas as pd\n",
    "import tensorflow as tf"
   ]
  },
  {
   "cell_type": "code",
   "execution_count": 2,
   "metadata": {},
   "outputs": [],
   "source": [
    "url = 'http://archive.ics.uci.edu/ml/machine-learning-databases/auto-mpg/auto-mpg.data'\n",
    "column_names = ['MPG', 'Cylinders', 'Displacement', 'Horsepower', 'Weight',\n",
    "                'Acceleration', 'Model Year', 'Origin']"
   ]
  },
  {
   "cell_type": "code",
   "execution_count": 3,
   "metadata": {},
   "outputs": [],
   "source": [
    "raw_dataset = pd.read_csv(url, sep=' ', names=column_names, na_values='?', comment='\\t', skipinitialspace=True)"
   ]
  },
  {
   "cell_type": "code",
   "execution_count": 4,
   "metadata": {},
   "outputs": [
    {
     "output_type": "execute_result",
     "data": {
      "text/plain": [
       "    MPG  Cylinders  Displacement  Horsepower  Weight  Acceleration  \\\n",
       "0  18.0          8         307.0       130.0  3504.0          12.0   \n",
       "1  15.0          8         350.0       165.0  3693.0          11.5   \n",
       "2  18.0          8         318.0       150.0  3436.0          11.0   \n",
       "3  16.0          8         304.0       150.0  3433.0          12.0   \n",
       "4  17.0          8         302.0       140.0  3449.0          10.5   \n",
       "\n",
       "   Model Year  Origin  \n",
       "0          70       1  \n",
       "1          70       1  \n",
       "2          70       1  \n",
       "3          70       1  \n",
       "4          70       1  "
      ],
      "text/html": "<div>\n<style scoped>\n    .dataframe tbody tr th:only-of-type {\n        vertical-align: middle;\n    }\n\n    .dataframe tbody tr th {\n        vertical-align: top;\n    }\n\n    .dataframe thead th {\n        text-align: right;\n    }\n</style>\n<table border=\"1\" class=\"dataframe\">\n  <thead>\n    <tr style=\"text-align: right;\">\n      <th></th>\n      <th>MPG</th>\n      <th>Cylinders</th>\n      <th>Displacement</th>\n      <th>Horsepower</th>\n      <th>Weight</th>\n      <th>Acceleration</th>\n      <th>Model Year</th>\n      <th>Origin</th>\n    </tr>\n  </thead>\n  <tbody>\n    <tr>\n      <th>0</th>\n      <td>18.0</td>\n      <td>8</td>\n      <td>307.0</td>\n      <td>130.0</td>\n      <td>3504.0</td>\n      <td>12.0</td>\n      <td>70</td>\n      <td>1</td>\n    </tr>\n    <tr>\n      <th>1</th>\n      <td>15.0</td>\n      <td>8</td>\n      <td>350.0</td>\n      <td>165.0</td>\n      <td>3693.0</td>\n      <td>11.5</td>\n      <td>70</td>\n      <td>1</td>\n    </tr>\n    <tr>\n      <th>2</th>\n      <td>18.0</td>\n      <td>8</td>\n      <td>318.0</td>\n      <td>150.0</td>\n      <td>3436.0</td>\n      <td>11.0</td>\n      <td>70</td>\n      <td>1</td>\n    </tr>\n    <tr>\n      <th>3</th>\n      <td>16.0</td>\n      <td>8</td>\n      <td>304.0</td>\n      <td>150.0</td>\n      <td>3433.0</td>\n      <td>12.0</td>\n      <td>70</td>\n      <td>1</td>\n    </tr>\n    <tr>\n      <th>4</th>\n      <td>17.0</td>\n      <td>8</td>\n      <td>302.0</td>\n      <td>140.0</td>\n      <td>3449.0</td>\n      <td>10.5</td>\n      <td>70</td>\n      <td>1</td>\n    </tr>\n  </tbody>\n</table>\n</div>"
     },
     "metadata": {},
     "execution_count": 4
    }
   ],
   "source": [
    "dataset = raw_dataset.copy()\n",
    "dataset.head()"
   ]
  },
  {
   "cell_type": "code",
   "execution_count": 5,
   "metadata": {},
   "outputs": [
    {
     "output_type": "execute_result",
     "data": {
      "text/plain": [
       "      MPG  Cylinders  Displacement  Horsepower  Weight  Acceleration  \\\n",
       "393  27.0          4         140.0        86.0  2790.0          15.6   \n",
       "394  44.0          4          97.0        52.0  2130.0          24.6   \n",
       "395  32.0          4         135.0        84.0  2295.0          11.6   \n",
       "396  28.0          4         120.0        79.0  2625.0          18.6   \n",
       "397  31.0          4         119.0        82.0  2720.0          19.4   \n",
       "\n",
       "     Model Year  Origin  \n",
       "393          82       1  \n",
       "394          82       2  \n",
       "395          82       1  \n",
       "396          82       1  \n",
       "397          82       1  "
      ],
      "text/html": "<div>\n<style scoped>\n    .dataframe tbody tr th:only-of-type {\n        vertical-align: middle;\n    }\n\n    .dataframe tbody tr th {\n        vertical-align: top;\n    }\n\n    .dataframe thead th {\n        text-align: right;\n    }\n</style>\n<table border=\"1\" class=\"dataframe\">\n  <thead>\n    <tr style=\"text-align: right;\">\n      <th></th>\n      <th>MPG</th>\n      <th>Cylinders</th>\n      <th>Displacement</th>\n      <th>Horsepower</th>\n      <th>Weight</th>\n      <th>Acceleration</th>\n      <th>Model Year</th>\n      <th>Origin</th>\n    </tr>\n  </thead>\n  <tbody>\n    <tr>\n      <th>393</th>\n      <td>27.0</td>\n      <td>4</td>\n      <td>140.0</td>\n      <td>86.0</td>\n      <td>2790.0</td>\n      <td>15.6</td>\n      <td>82</td>\n      <td>1</td>\n    </tr>\n    <tr>\n      <th>394</th>\n      <td>44.0</td>\n      <td>4</td>\n      <td>97.0</td>\n      <td>52.0</td>\n      <td>2130.0</td>\n      <td>24.6</td>\n      <td>82</td>\n      <td>2</td>\n    </tr>\n    <tr>\n      <th>395</th>\n      <td>32.0</td>\n      <td>4</td>\n      <td>135.0</td>\n      <td>84.0</td>\n      <td>2295.0</td>\n      <td>11.6</td>\n      <td>82</td>\n      <td>1</td>\n    </tr>\n    <tr>\n      <th>396</th>\n      <td>28.0</td>\n      <td>4</td>\n      <td>120.0</td>\n      <td>79.0</td>\n      <td>2625.0</td>\n      <td>18.6</td>\n      <td>82</td>\n      <td>1</td>\n    </tr>\n    <tr>\n      <th>397</th>\n      <td>31.0</td>\n      <td>4</td>\n      <td>119.0</td>\n      <td>82.0</td>\n      <td>2720.0</td>\n      <td>19.4</td>\n      <td>82</td>\n      <td>1</td>\n    </tr>\n  </tbody>\n</table>\n</div>"
     },
     "metadata": {},
     "execution_count": 5
    }
   ],
   "source": [
    "dataset.tail()"
   ]
  },
  {
   "cell_type": "code",
   "execution_count": 6,
   "metadata": {},
   "outputs": [
    {
     "output_type": "execute_result",
     "data": {
      "text/plain": [
       "MPG             0\n",
       "Cylinders       0\n",
       "Displacement    0\n",
       "Horsepower      6\n",
       "Weight          0\n",
       "Acceleration    0\n",
       "Model Year      0\n",
       "Origin          0\n",
       "dtype: int64"
      ]
     },
     "metadata": {},
     "execution_count": 6
    }
   ],
   "source": [
    "dataset.isna().sum()"
   ]
  },
  {
   "cell_type": "code",
   "execution_count": 7,
   "metadata": {},
   "outputs": [],
   "source": [
    "dataset = dataset.dropna()"
   ]
  },
  {
   "cell_type": "code",
   "execution_count": 8,
   "metadata": {},
   "outputs": [
    {
     "output_type": "execute_result",
     "data": {
      "text/plain": [
       "MPG             0\n",
       "Cylinders       0\n",
       "Displacement    0\n",
       "Horsepower      0\n",
       "Weight          0\n",
       "Acceleration    0\n",
       "Model Year      0\n",
       "Origin          0\n",
       "dtype: int64"
      ]
     },
     "metadata": {},
     "execution_count": 8
    }
   ],
   "source": [
    "dataset.isna().sum()"
   ]
  },
  {
   "cell_type": "code",
   "execution_count": 9,
   "metadata": {},
   "outputs": [],
   "source": [
    "dataset['Origin'] = dataset['Origin'].map({1: 'USA', 2: 'Europe', 3: 'Japan'})"
   ]
  },
  {
   "cell_type": "code",
   "execution_count": 10,
   "metadata": {},
   "outputs": [
    {
     "output_type": "execute_result",
     "data": {
      "text/plain": [
       "    MPG  Cylinders  Displacement  Horsepower  Weight  Acceleration  \\\n",
       "0  18.0          8         307.0       130.0  3504.0          12.0   \n",
       "1  15.0          8         350.0       165.0  3693.0          11.5   \n",
       "2  18.0          8         318.0       150.0  3436.0          11.0   \n",
       "3  16.0          8         304.0       150.0  3433.0          12.0   \n",
       "4  17.0          8         302.0       140.0  3449.0          10.5   \n",
       "\n",
       "   Model Year Origin  \n",
       "0          70    USA  \n",
       "1          70    USA  \n",
       "2          70    USA  \n",
       "3          70    USA  \n",
       "4          70    USA  "
      ],
      "text/html": "<div>\n<style scoped>\n    .dataframe tbody tr th:only-of-type {\n        vertical-align: middle;\n    }\n\n    .dataframe tbody tr th {\n        vertical-align: top;\n    }\n\n    .dataframe thead th {\n        text-align: right;\n    }\n</style>\n<table border=\"1\" class=\"dataframe\">\n  <thead>\n    <tr style=\"text-align: right;\">\n      <th></th>\n      <th>MPG</th>\n      <th>Cylinders</th>\n      <th>Displacement</th>\n      <th>Horsepower</th>\n      <th>Weight</th>\n      <th>Acceleration</th>\n      <th>Model Year</th>\n      <th>Origin</th>\n    </tr>\n  </thead>\n  <tbody>\n    <tr>\n      <th>0</th>\n      <td>18.0</td>\n      <td>8</td>\n      <td>307.0</td>\n      <td>130.0</td>\n      <td>3504.0</td>\n      <td>12.0</td>\n      <td>70</td>\n      <td>USA</td>\n    </tr>\n    <tr>\n      <th>1</th>\n      <td>15.0</td>\n      <td>8</td>\n      <td>350.0</td>\n      <td>165.0</td>\n      <td>3693.0</td>\n      <td>11.5</td>\n      <td>70</td>\n      <td>USA</td>\n    </tr>\n    <tr>\n      <th>2</th>\n      <td>18.0</td>\n      <td>8</td>\n      <td>318.0</td>\n      <td>150.0</td>\n      <td>3436.0</td>\n      <td>11.0</td>\n      <td>70</td>\n      <td>USA</td>\n    </tr>\n    <tr>\n      <th>3</th>\n      <td>16.0</td>\n      <td>8</td>\n      <td>304.0</td>\n      <td>150.0</td>\n      <td>3433.0</td>\n      <td>12.0</td>\n      <td>70</td>\n      <td>USA</td>\n    </tr>\n    <tr>\n      <th>4</th>\n      <td>17.0</td>\n      <td>8</td>\n      <td>302.0</td>\n      <td>140.0</td>\n      <td>3449.0</td>\n      <td>10.5</td>\n      <td>70</td>\n      <td>USA</td>\n    </tr>\n  </tbody>\n</table>\n</div>"
     },
     "metadata": {},
     "execution_count": 10
    }
   ],
   "source": [
    "dataset.head()"
   ]
  },
  {
   "cell_type": "code",
   "execution_count": 11,
   "metadata": {},
   "outputs": [],
   "source": [
    "dataset = pd.get_dummies(dataset, prefix='', prefix_sep='')"
   ]
  },
  {
   "cell_type": "code",
   "execution_count": 12,
   "metadata": {},
   "outputs": [
    {
     "output_type": "execute_result",
     "data": {
      "text/plain": [
       "    MPG  Cylinders  Displacement  Horsepower  Weight  Acceleration  \\\n",
       "0  18.0          8         307.0       130.0  3504.0          12.0   \n",
       "1  15.0          8         350.0       165.0  3693.0          11.5   \n",
       "2  18.0          8         318.0       150.0  3436.0          11.0   \n",
       "3  16.0          8         304.0       150.0  3433.0          12.0   \n",
       "4  17.0          8         302.0       140.0  3449.0          10.5   \n",
       "\n",
       "   Model Year  Europe  Japan  USA  \n",
       "0          70       0      0    1  \n",
       "1          70       0      0    1  \n",
       "2          70       0      0    1  \n",
       "3          70       0      0    1  \n",
       "4          70       0      0    1  "
      ],
      "text/html": "<div>\n<style scoped>\n    .dataframe tbody tr th:only-of-type {\n        vertical-align: middle;\n    }\n\n    .dataframe tbody tr th {\n        vertical-align: top;\n    }\n\n    .dataframe thead th {\n        text-align: right;\n    }\n</style>\n<table border=\"1\" class=\"dataframe\">\n  <thead>\n    <tr style=\"text-align: right;\">\n      <th></th>\n      <th>MPG</th>\n      <th>Cylinders</th>\n      <th>Displacement</th>\n      <th>Horsepower</th>\n      <th>Weight</th>\n      <th>Acceleration</th>\n      <th>Model Year</th>\n      <th>Europe</th>\n      <th>Japan</th>\n      <th>USA</th>\n    </tr>\n  </thead>\n  <tbody>\n    <tr>\n      <th>0</th>\n      <td>18.0</td>\n      <td>8</td>\n      <td>307.0</td>\n      <td>130.0</td>\n      <td>3504.0</td>\n      <td>12.0</td>\n      <td>70</td>\n      <td>0</td>\n      <td>0</td>\n      <td>1</td>\n    </tr>\n    <tr>\n      <th>1</th>\n      <td>15.0</td>\n      <td>8</td>\n      <td>350.0</td>\n      <td>165.0</td>\n      <td>3693.0</td>\n      <td>11.5</td>\n      <td>70</td>\n      <td>0</td>\n      <td>0</td>\n      <td>1</td>\n    </tr>\n    <tr>\n      <th>2</th>\n      <td>18.0</td>\n      <td>8</td>\n      <td>318.0</td>\n      <td>150.0</td>\n      <td>3436.0</td>\n      <td>11.0</td>\n      <td>70</td>\n      <td>0</td>\n      <td>0</td>\n      <td>1</td>\n    </tr>\n    <tr>\n      <th>3</th>\n      <td>16.0</td>\n      <td>8</td>\n      <td>304.0</td>\n      <td>150.0</td>\n      <td>3433.0</td>\n      <td>12.0</td>\n      <td>70</td>\n      <td>0</td>\n      <td>0</td>\n      <td>1</td>\n    </tr>\n    <tr>\n      <th>4</th>\n      <td>17.0</td>\n      <td>8</td>\n      <td>302.0</td>\n      <td>140.0</td>\n      <td>3449.0</td>\n      <td>10.5</td>\n      <td>70</td>\n      <td>0</td>\n      <td>0</td>\n      <td>1</td>\n    </tr>\n  </tbody>\n</table>\n</div>"
     },
     "metadata": {},
     "execution_count": 12
    }
   ],
   "source": [
    "dataset.head()"
   ]
  },
  {
   "cell_type": "code",
   "execution_count": 13,
   "metadata": {},
   "outputs": [],
   "source": [
    "train_data = dataset.sample(frac=0.8, random_state=0)\n",
    "test_data = dataset.drop(train_data.index)"
   ]
  },
  {
   "cell_type": "code",
   "execution_count": 14,
   "metadata": {},
   "outputs": [
    {
     "output_type": "execute_result",
     "data": {
      "text/plain": [
       "              count         mean         std     min      25%     50%  \\\n",
       "MPG           314.0    23.310510    7.728652    10.0    17.00    22.0   \n",
       "Cylinders     314.0     5.477707    1.699788     3.0     4.00     4.0   \n",
       "Displacement  314.0   195.318471  104.331589    68.0   105.50   151.0   \n",
       "Horsepower    314.0   104.869427   38.096214    46.0    76.25    94.5   \n",
       "Weight        314.0  2990.251592  843.898596  1649.0  2256.50  2822.5   \n",
       "Acceleration  314.0    15.559236    2.789230     8.0    13.80    15.5   \n",
       "Model Year    314.0    75.898089    3.675642    70.0    73.00    76.0   \n",
       "Europe        314.0     0.178344    0.383413     0.0     0.00     0.0   \n",
       "Japan         314.0     0.197452    0.398712     0.0     0.00     0.0   \n",
       "USA           314.0     0.624204    0.485101     0.0     0.00     1.0   \n",
       "\n",
       "                  75%     max  \n",
       "MPG             28.95    46.6  \n",
       "Cylinders        8.00     8.0  \n",
       "Displacement   265.75   455.0  \n",
       "Horsepower     128.00   225.0  \n",
       "Weight        3608.00  5140.0  \n",
       "Acceleration    17.20    24.8  \n",
       "Model Year      79.00    82.0  \n",
       "Europe           0.00     1.0  \n",
       "Japan            0.00     1.0  \n",
       "USA              1.00     1.0  "
      ],
      "text/html": "<div>\n<style scoped>\n    .dataframe tbody tr th:only-of-type {\n        vertical-align: middle;\n    }\n\n    .dataframe tbody tr th {\n        vertical-align: top;\n    }\n\n    .dataframe thead th {\n        text-align: right;\n    }\n</style>\n<table border=\"1\" class=\"dataframe\">\n  <thead>\n    <tr style=\"text-align: right;\">\n      <th></th>\n      <th>count</th>\n      <th>mean</th>\n      <th>std</th>\n      <th>min</th>\n      <th>25%</th>\n      <th>50%</th>\n      <th>75%</th>\n      <th>max</th>\n    </tr>\n  </thead>\n  <tbody>\n    <tr>\n      <th>MPG</th>\n      <td>314.0</td>\n      <td>23.310510</td>\n      <td>7.728652</td>\n      <td>10.0</td>\n      <td>17.00</td>\n      <td>22.0</td>\n      <td>28.95</td>\n      <td>46.6</td>\n    </tr>\n    <tr>\n      <th>Cylinders</th>\n      <td>314.0</td>\n      <td>5.477707</td>\n      <td>1.699788</td>\n      <td>3.0</td>\n      <td>4.00</td>\n      <td>4.0</td>\n      <td>8.00</td>\n      <td>8.0</td>\n    </tr>\n    <tr>\n      <th>Displacement</th>\n      <td>314.0</td>\n      <td>195.318471</td>\n      <td>104.331589</td>\n      <td>68.0</td>\n      <td>105.50</td>\n      <td>151.0</td>\n      <td>265.75</td>\n      <td>455.0</td>\n    </tr>\n    <tr>\n      <th>Horsepower</th>\n      <td>314.0</td>\n      <td>104.869427</td>\n      <td>38.096214</td>\n      <td>46.0</td>\n      <td>76.25</td>\n      <td>94.5</td>\n      <td>128.00</td>\n      <td>225.0</td>\n    </tr>\n    <tr>\n      <th>Weight</th>\n      <td>314.0</td>\n      <td>2990.251592</td>\n      <td>843.898596</td>\n      <td>1649.0</td>\n      <td>2256.50</td>\n      <td>2822.5</td>\n      <td>3608.00</td>\n      <td>5140.0</td>\n    </tr>\n    <tr>\n      <th>Acceleration</th>\n      <td>314.0</td>\n      <td>15.559236</td>\n      <td>2.789230</td>\n      <td>8.0</td>\n      <td>13.80</td>\n      <td>15.5</td>\n      <td>17.20</td>\n      <td>24.8</td>\n    </tr>\n    <tr>\n      <th>Model Year</th>\n      <td>314.0</td>\n      <td>75.898089</td>\n      <td>3.675642</td>\n      <td>70.0</td>\n      <td>73.00</td>\n      <td>76.0</td>\n      <td>79.00</td>\n      <td>82.0</td>\n    </tr>\n    <tr>\n      <th>Europe</th>\n      <td>314.0</td>\n      <td>0.178344</td>\n      <td>0.383413</td>\n      <td>0.0</td>\n      <td>0.00</td>\n      <td>0.0</td>\n      <td>0.00</td>\n      <td>1.0</td>\n    </tr>\n    <tr>\n      <th>Japan</th>\n      <td>314.0</td>\n      <td>0.197452</td>\n      <td>0.398712</td>\n      <td>0.0</td>\n      <td>0.00</td>\n      <td>0.0</td>\n      <td>0.00</td>\n      <td>1.0</td>\n    </tr>\n    <tr>\n      <th>USA</th>\n      <td>314.0</td>\n      <td>0.624204</td>\n      <td>0.485101</td>\n      <td>0.0</td>\n      <td>0.00</td>\n      <td>1.0</td>\n      <td>1.00</td>\n      <td>1.0</td>\n    </tr>\n  </tbody>\n</table>\n</div>"
     },
     "metadata": {},
     "execution_count": 14
    }
   ],
   "source": [
    "train_data.describe().transpose()"
   ]
  },
  {
   "cell_type": "code",
   "execution_count": 15,
   "metadata": {},
   "outputs": [],
   "source": [
    "train_features = train_data.copy()\n",
    "test_features = test_data.copy()\n",
    "\n",
    "train_labels = train_features.pop('MPG')\n",
    "test_labels = test_features.pop('MPG')"
   ]
  },
  {
   "cell_type": "code",
   "execution_count": 16,
   "metadata": {},
   "outputs": [],
   "source": [
    "from tensorflow.keras.layers.experimental import preprocessing\n",
    "\n",
    "normalizer = preprocessing.Normalization()"
   ]
  },
  {
   "cell_type": "code",
   "execution_count": 17,
   "metadata": {},
   "outputs": [
    {
     "output_type": "stream",
     "name": "stdout",
     "text": [
      "[5.4777069e+00 1.9531847e+02 1.0486943e+02 2.9902517e+03 1.5559236e+01\n 7.5898087e+01 1.7834395e-01 1.9745223e-01 6.2420380e-01]\n"
     ]
    }
   ],
   "source": [
    "import numpy as np\n",
    "normalizer.adapt(np.array(train_features))\n",
    "print(normalizer.mean.numpy())"
   ]
  },
  {
   "cell_type": "code",
   "execution_count": 18,
   "metadata": {},
   "outputs": [
    {
     "output_type": "stream",
     "name": "stdout",
     "text": [
      "[14.5 17.3 13.5]\n"
     ]
    },
    {
     "output_type": "execute_result",
     "data": {
      "text/plain": [
       "array([15.559236], dtype=float32)"
      ]
     },
     "metadata": {},
     "execution_count": 18
    }
   ],
   "source": [
    "acceleration = np.array(train_features['Acceleration'])\n",
    "print(acceleration[:3])\n",
    "acceleration_normalizer = preprocessing.Normalization(input_shape=[1,])\n",
    "acceleration_normalizer.adapt(acceleration)\n",
    "acceleration_normalizer.mean.numpy()"
   ]
  },
  {
   "cell_type": "code",
   "execution_count": 19,
   "metadata": {},
   "outputs": [],
   "source": [
    "acceleration_model = tf.keras.Sequential([\n",
    "    acceleration_normalizer,\n",
    "    tf.keras.layers.Dense(units=1)\n",
    "])"
   ]
  },
  {
   "cell_type": "code",
   "execution_count": 20,
   "metadata": {},
   "outputs": [
    {
     "output_type": "stream",
     "name": "stdout",
     "text": [
      "Model: \"sequential\"\n",
      "_________________________________________________________________\n",
      "Layer (type)                 Output Shape              Param #   \n",
      "=================================================================\n",
      "normalization_1 (Normalizati (None, 1)                 3         \n",
      "_________________________________________________________________\n",
      "dense (Dense)                (None, 1)                 2         \n",
      "=================================================================\n",
      "Total params: 5\n",
      "Trainable params: 2\n",
      "Non-trainable params: 3\n",
      "_________________________________________________________________\n"
     ]
    }
   ],
   "source": [
    "acceleration_model.summary()"
   ]
  },
  {
   "cell_type": "code",
   "execution_count": 21,
   "metadata": {},
   "outputs": [
    {
     "output_type": "execute_result",
     "data": {
      "text/plain": [
       "array([[ 0.3305753 ],\n",
       "       [-0.54327244],\n",
       "       [ 0.64266384],\n",
       "       [ 0.26815766],\n",
       "       [-0.76173466],\n",
       "       [-0.51206404],\n",
       "       [-1.0114052 ],\n",
       "       [-1.9476708 ],\n",
       "       [-0.2936018 ],\n",
       "       [-1.0738232 ]], dtype=float32)"
      ]
     },
     "metadata": {},
     "execution_count": 21
    }
   ],
   "source": [
    "acceleration_model.predict(acceleration[:10])"
   ]
  },
  {
   "cell_type": "code",
   "execution_count": 22,
   "metadata": {},
   "outputs": [],
   "source": [
    "acceleration_model.compile(optimizer= tf.keras.optimizers.Adam(learning_rate=0.1), loss='mae',)"
   ]
  },
  {
   "cell_type": "code",
   "execution_count": 23,
   "metadata": {},
   "outputs": [
    {
     "output_type": "stream",
     "name": "stdout",
     "text": [
      "Epoch 1/100\n",
      "8/8 [==============================] - 1s 91ms/step - loss: 23.0069 - val_loss: 22.9890\n",
      "Epoch 2/100\n",
      "8/8 [==============================] - 0s 10ms/step - loss: 21.7843 - val_loss: 22.1934\n",
      "Epoch 3/100\n",
      "8/8 [==============================] - 0s 10ms/step - loss: 21.0486 - val_loss: 21.4023\n",
      "Epoch 4/100\n",
      "8/8 [==============================] - 0s 9ms/step - loss: 21.0821 - val_loss: 20.6072\n",
      "Epoch 5/100\n",
      "8/8 [==============================] - 0s 9ms/step - loss: 19.3585 - val_loss: 19.8215\n",
      "Epoch 6/100\n",
      "8/8 [==============================] - 0s 9ms/step - loss: 19.0659 - val_loss: 19.0308\n",
      "Epoch 7/100\n",
      "8/8 [==============================] - 0s 9ms/step - loss: 18.7566 - val_loss: 18.2335\n",
      "Epoch 8/100\n",
      "8/8 [==============================] - 0s 11ms/step - loss: 17.1960 - val_loss: 17.4337\n",
      "Epoch 9/100\n",
      "8/8 [==============================] - 0s 9ms/step - loss: 17.1782 - val_loss: 16.6395\n",
      "Epoch 10/100\n",
      "8/8 [==============================] - 0s 8ms/step - loss: 15.6259 - val_loss: 15.8465\n",
      "Epoch 11/100\n",
      "8/8 [==============================] - 0s 10ms/step - loss: 14.3326 - val_loss: 15.0793\n",
      "Epoch 12/100\n",
      "8/8 [==============================] - 0s 10ms/step - loss: 14.3399 - val_loss: 14.3399\n",
      "Epoch 13/100\n",
      "8/8 [==============================] - 0s 10ms/step - loss: 13.8424 - val_loss: 13.6318\n",
      "Epoch 14/100\n",
      "8/8 [==============================] - 0s 10ms/step - loss: 13.1017 - val_loss: 12.9055\n",
      "Epoch 15/100\n",
      "8/8 [==============================] - 0s 10ms/step - loss: 11.6924 - val_loss: 12.1496\n",
      "Epoch 16/100\n",
      "8/8 [==============================] - 0s 9ms/step - loss: 10.7535 - val_loss: 11.3941\n",
      "Epoch 17/100\n",
      "8/8 [==============================] - 0s 10ms/step - loss: 10.4248 - val_loss: 10.6219\n",
      "Epoch 18/100\n",
      "8/8 [==============================] - 0s 8ms/step - loss: 10.0822 - val_loss: 9.8906\n",
      "Epoch 19/100\n",
      "8/8 [==============================] - 0s 10ms/step - loss: 9.3866 - val_loss: 9.1449\n",
      "Epoch 20/100\n",
      "8/8 [==============================] - 0s 9ms/step - loss: 9.0689 - val_loss: 8.4803\n",
      "Epoch 21/100\n",
      "8/8 [==============================] - 0s 9ms/step - loss: 8.0925 - val_loss: 7.9230\n",
      "Epoch 22/100\n",
      "8/8 [==============================] - 0s 9ms/step - loss: 7.1660 - val_loss: 7.4869\n",
      "Epoch 23/100\n",
      "8/8 [==============================] - 0s 12ms/step - loss: 6.6891 - val_loss: 7.1117\n",
      "Epoch 24/100\n",
      "8/8 [==============================] - 0s 10ms/step - loss: 7.0460 - val_loss: 6.8065\n",
      "Epoch 25/100\n",
      "8/8 [==============================] - 0s 9ms/step - loss: 6.4916 - val_loss: 6.6025\n",
      "Epoch 26/100\n",
      "8/8 [==============================] - 0s 11ms/step - loss: 6.7221 - val_loss: 6.4364\n",
      "Epoch 27/100\n",
      "8/8 [==============================] - 0s 9ms/step - loss: 5.9523 - val_loss: 6.3298\n",
      "Epoch 28/100\n",
      "8/8 [==============================] - 0s 10ms/step - loss: 5.7867 - val_loss: 6.2381\n",
      "Epoch 29/100\n",
      "8/8 [==============================] - 0s 9ms/step - loss: 6.3379 - val_loss: 6.1711\n",
      "Epoch 30/100\n",
      "8/8 [==============================] - 0s 8ms/step - loss: 5.8667 - val_loss: 6.1151\n",
      "Epoch 31/100\n",
      "8/8 [==============================] - 0s 9ms/step - loss: 5.7369 - val_loss: 6.0730\n",
      "Epoch 32/100\n",
      "8/8 [==============================] - 0s 28ms/step - loss: 5.8329 - val_loss: 6.0499\n",
      "Epoch 33/100\n",
      "8/8 [==============================] - 0s 10ms/step - loss: 5.7648 - val_loss: 6.0200\n",
      "Epoch 34/100\n",
      "8/8 [==============================] - 0s 10ms/step - loss: 6.0475 - val_loss: 6.0380\n",
      "Epoch 35/100\n",
      "8/8 [==============================] - 0s 10ms/step - loss: 5.6106 - val_loss: 6.0268\n",
      "Epoch 36/100\n",
      "8/8 [==============================] - 0s 8ms/step - loss: 5.6972 - val_loss: 6.0300\n",
      "Epoch 37/100\n",
      "8/8 [==============================] - 0s 9ms/step - loss: 5.5788 - val_loss: 6.0271\n",
      "Epoch 38/100\n",
      "8/8 [==============================] - 0s 9ms/step - loss: 5.7609 - val_loss: 6.0209\n",
      "Epoch 39/100\n",
      "8/8 [==============================] - 0s 10ms/step - loss: 5.6557 - val_loss: 6.0366\n",
      "Epoch 40/100\n",
      "8/8 [==============================] - 0s 9ms/step - loss: 5.4841 - val_loss: 6.0344\n",
      "Epoch 41/100\n",
      "8/8 [==============================] - 0s 9ms/step - loss: 5.3526 - val_loss: 6.0238\n",
      "Epoch 42/100\n",
      "8/8 [==============================] - 0s 9ms/step - loss: 5.7430 - val_loss: 6.0199\n",
      "Epoch 43/100\n",
      "8/8 [==============================] - 0s 10ms/step - loss: 5.6715 - val_loss: 6.0161\n",
      "Epoch 44/100\n",
      "8/8 [==============================] - 0s 8ms/step - loss: 5.7515 - val_loss: 6.0066\n",
      "Epoch 45/100\n",
      "8/8 [==============================] - 0s 9ms/step - loss: 5.8238 - val_loss: 6.0132\n",
      "Epoch 46/100\n",
      "8/8 [==============================] - 0s 10ms/step - loss: 5.8715 - val_loss: 6.0031\n",
      "Epoch 47/100\n",
      "8/8 [==============================] - 0s 11ms/step - loss: 5.2625 - val_loss: 6.0010\n",
      "Epoch 48/100\n",
      "8/8 [==============================] - 0s 9ms/step - loss: 5.2973 - val_loss: 6.0049\n",
      "Epoch 49/100\n",
      "8/8 [==============================] - 0s 13ms/step - loss: 5.5976 - val_loss: 6.0070\n",
      "Epoch 50/100\n",
      "8/8 [==============================] - 0s 15ms/step - loss: 5.7676 - val_loss: 6.0129\n",
      "Epoch 51/100\n",
      "8/8 [==============================] - 0s 33ms/step - loss: 6.0675 - val_loss: 6.0082\n",
      "Epoch 52/100\n",
      "8/8 [==============================] - 0s 11ms/step - loss: 5.4692 - val_loss: 6.0085\n",
      "Epoch 53/100\n",
      "8/8 [==============================] - 0s 15ms/step - loss: 5.3389 - val_loss: 6.0083\n",
      "Epoch 54/100\n",
      "8/8 [==============================] - 0s 15ms/step - loss: 5.7921 - val_loss: 6.0050\n",
      "Epoch 55/100\n",
      "8/8 [==============================] - 0s 14ms/step - loss: 5.6504 - val_loss: 5.9989\n",
      "Epoch 56/100\n",
      "8/8 [==============================] - 0s 21ms/step - loss: 5.2549 - val_loss: 6.0057\n",
      "Epoch 57/100\n",
      "8/8 [==============================] - 0s 13ms/step - loss: 5.6361 - val_loss: 6.0088\n",
      "Epoch 58/100\n",
      "8/8 [==============================] - 0s 9ms/step - loss: 5.9805 - val_loss: 6.0084\n",
      "Epoch 59/100\n",
      "8/8 [==============================] - 0s 9ms/step - loss: 5.3622 - val_loss: 6.0119\n",
      "Epoch 60/100\n",
      "8/8 [==============================] - 0s 9ms/step - loss: 5.6592 - val_loss: 6.0023\n",
      "Epoch 61/100\n",
      "8/8 [==============================] - 0s 9ms/step - loss: 5.7464 - val_loss: 6.0071\n",
      "Epoch 62/100\n",
      "8/8 [==============================] - 0s 9ms/step - loss: 5.3592 - val_loss: 6.0178\n",
      "Epoch 63/100\n",
      "8/8 [==============================] - 0s 18ms/step - loss: 5.8368 - val_loss: 6.0078\n",
      "Epoch 64/100\n",
      "8/8 [==============================] - 0s 9ms/step - loss: 5.5050 - val_loss: 6.0188\n",
      "Epoch 65/100\n",
      "8/8 [==============================] - 0s 9ms/step - loss: 5.7018 - val_loss: 6.0180\n",
      "Epoch 66/100\n",
      "8/8 [==============================] - 0s 10ms/step - loss: 5.6293 - val_loss: 6.0191\n",
      "Epoch 67/100\n",
      "8/8 [==============================] - 0s 9ms/step - loss: 5.4479 - val_loss: 6.0243\n",
      "Epoch 68/100\n",
      "8/8 [==============================] - 0s 9ms/step - loss: 5.5749 - val_loss: 6.0200\n",
      "Epoch 69/100\n",
      "8/8 [==============================] - 0s 9ms/step - loss: 5.2730 - val_loss: 6.0140\n",
      "Epoch 70/100\n",
      "8/8 [==============================] - 0s 27ms/step - loss: 5.6180 - val_loss: 6.0223\n",
      "Epoch 71/100\n",
      "8/8 [==============================] - 0s 36ms/step - loss: 5.9047 - val_loss: 6.0169\n",
      "Epoch 72/100\n",
      "8/8 [==============================] - 0s 35ms/step - loss: 5.6329 - val_loss: 6.0112\n",
      "Epoch 73/100\n",
      "8/8 [==============================] - 0s 12ms/step - loss: 5.4229 - val_loss: 6.0182\n",
      "Epoch 74/100\n",
      "8/8 [==============================] - 0s 12ms/step - loss: 5.7241 - val_loss: 6.0177\n",
      "Epoch 75/100\n",
      "8/8 [==============================] - 0s 10ms/step - loss: 5.6463 - val_loss: 6.0155\n",
      "Epoch 76/100\n",
      "8/8 [==============================] - 0s 11ms/step - loss: 5.6823 - val_loss: 6.0141\n",
      "Epoch 77/100\n",
      "8/8 [==============================] - 0s 20ms/step - loss: 5.4679 - val_loss: 6.0201\n",
      "Epoch 78/100\n",
      "8/8 [==============================] - 0s 17ms/step - loss: 5.9237 - val_loss: 6.0176\n",
      "Epoch 79/100\n",
      "8/8 [==============================] - 0s 16ms/step - loss: 5.6622 - val_loss: 6.0239\n",
      "Epoch 80/100\n",
      "8/8 [==============================] - 0s 10ms/step - loss: 5.9027 - val_loss: 6.0203\n",
      "Epoch 81/100\n",
      "8/8 [==============================] - 0s 14ms/step - loss: 5.5557 - val_loss: 6.0259\n",
      "Epoch 82/100\n",
      "8/8 [==============================] - 0s 11ms/step - loss: 5.6776 - val_loss: 6.0231\n",
      "Epoch 83/100\n",
      "8/8 [==============================] - 0s 14ms/step - loss: 5.7126 - val_loss: 6.0274\n",
      "Epoch 84/100\n",
      "8/8 [==============================] - 0s 11ms/step - loss: 5.6938 - val_loss: 6.0179\n",
      "Epoch 85/100\n",
      "8/8 [==============================] - 0s 11ms/step - loss: 5.8232 - val_loss: 6.0172\n",
      "Epoch 86/100\n",
      "8/8 [==============================] - 0s 16ms/step - loss: 5.7462 - val_loss: 6.0193\n",
      "Epoch 87/100\n",
      "8/8 [==============================] - 0s 14ms/step - loss: 5.3363 - val_loss: 6.0292\n",
      "Epoch 88/100\n",
      "8/8 [==============================] - 0s 19ms/step - loss: 5.7926 - val_loss: 6.0259\n",
      "Epoch 89/100\n",
      "8/8 [==============================] - 0s 15ms/step - loss: 6.0749 - val_loss: 6.0123\n",
      "Epoch 90/100\n",
      "8/8 [==============================] - 0s 13ms/step - loss: 5.8151 - val_loss: 6.0091\n",
      "Epoch 91/100\n",
      "8/8 [==============================] - 0s 14ms/step - loss: 5.6761 - val_loss: 6.0228\n",
      "Epoch 92/100\n",
      "8/8 [==============================] - 0s 13ms/step - loss: 6.1541 - val_loss: 6.0200\n",
      "Epoch 93/100\n",
      "8/8 [==============================] - 0s 13ms/step - loss: 5.5834 - val_loss: 6.0201\n",
      "Epoch 94/100\n",
      "8/8 [==============================] - 0s 10ms/step - loss: 5.7243 - val_loss: 6.0193\n",
      "Epoch 95/100\n",
      "8/8 [==============================] - 0s 10ms/step - loss: 5.3483 - val_loss: 6.0219\n",
      "Epoch 96/100\n",
      "8/8 [==============================] - 0s 10ms/step - loss: 5.6407 - val_loss: 6.0311\n",
      "Epoch 97/100\n",
      "8/8 [==============================] - 0s 10ms/step - loss: 5.6819 - val_loss: 6.0283\n",
      "Epoch 98/100\n",
      "8/8 [==============================] - 0s 10ms/step - loss: 5.7657 - val_loss: 6.0281\n",
      "Epoch 99/100\n",
      "8/8 [==============================] - 0s 9ms/step - loss: 5.5949 - val_loss: 6.0201\n",
      "Epoch 100/100\n",
      "8/8 [==============================] - 0s 12ms/step - loss: 5.8633 - val_loss: 6.0184\n"
     ]
    },
    {
     "output_type": "execute_result",
     "data": {
      "text/plain": [
       "<tensorflow.python.keras.callbacks.History at 0x7fcf4bf5c070>"
      ]
     },
     "metadata": {},
     "execution_count": 23
    }
   ],
   "source": [
    "acceleration_model.fit(acceleration, train_labels, epochs=100, validation_split=0.2)"
   ]
  },
  {
   "cell_type": "code",
   "execution_count": 24,
   "metadata": {},
   "outputs": [
    {
     "output_type": "execute_result",
     "data": {
      "text/plain": [
       "     MPG  Cylinders  Displacement  Horsepower  Weight  Acceleration  \\\n",
       "9   15.0          8         390.0       190.0  3850.0           8.5   \n",
       "25  10.0          8         360.0       215.0  4615.0          14.0   \n",
       "28   9.0          8         304.0       193.0  4732.0          18.5   \n",
       "31  25.0          4         113.0        95.0  2228.0          14.0   \n",
       "33  19.0          6         232.0       100.0  2634.0          13.0   \n",
       "\n",
       "    Model Year  Europe  Japan  USA  \n",
       "9           70       0      0    1  \n",
       "25          70       0      0    1  \n",
       "28          70       0      0    1  \n",
       "31          71       0      1    0  \n",
       "33          71       0      0    1  "
      ],
      "text/html": "<div>\n<style scoped>\n    .dataframe tbody tr th:only-of-type {\n        vertical-align: middle;\n    }\n\n    .dataframe tbody tr th {\n        vertical-align: top;\n    }\n\n    .dataframe thead th {\n        text-align: right;\n    }\n</style>\n<table border=\"1\" class=\"dataframe\">\n  <thead>\n    <tr style=\"text-align: right;\">\n      <th></th>\n      <th>MPG</th>\n      <th>Cylinders</th>\n      <th>Displacement</th>\n      <th>Horsepower</th>\n      <th>Weight</th>\n      <th>Acceleration</th>\n      <th>Model Year</th>\n      <th>Europe</th>\n      <th>Japan</th>\n      <th>USA</th>\n    </tr>\n  </thead>\n  <tbody>\n    <tr>\n      <th>9</th>\n      <td>15.0</td>\n      <td>8</td>\n      <td>390.0</td>\n      <td>190.0</td>\n      <td>3850.0</td>\n      <td>8.5</td>\n      <td>70</td>\n      <td>0</td>\n      <td>0</td>\n      <td>1</td>\n    </tr>\n    <tr>\n      <th>25</th>\n      <td>10.0</td>\n      <td>8</td>\n      <td>360.0</td>\n      <td>215.0</td>\n      <td>4615.0</td>\n      <td>14.0</td>\n      <td>70</td>\n      <td>0</td>\n      <td>0</td>\n      <td>1</td>\n    </tr>\n    <tr>\n      <th>28</th>\n      <td>9.0</td>\n      <td>8</td>\n      <td>304.0</td>\n      <td>193.0</td>\n      <td>4732.0</td>\n      <td>18.5</td>\n      <td>70</td>\n      <td>0</td>\n      <td>0</td>\n      <td>1</td>\n    </tr>\n    <tr>\n      <th>31</th>\n      <td>25.0</td>\n      <td>4</td>\n      <td>113.0</td>\n      <td>95.0</td>\n      <td>2228.0</td>\n      <td>14.0</td>\n      <td>71</td>\n      <td>0</td>\n      <td>1</td>\n      <td>0</td>\n    </tr>\n    <tr>\n      <th>33</th>\n      <td>19.0</td>\n      <td>6</td>\n      <td>232.0</td>\n      <td>100.0</td>\n      <td>2634.0</td>\n      <td>13.0</td>\n      <td>71</td>\n      <td>0</td>\n      <td>0</td>\n      <td>1</td>\n    </tr>\n  </tbody>\n</table>\n</div>"
     },
     "metadata": {},
     "execution_count": 24
    }
   ],
   "source": [
    "test_data.head()"
   ]
  },
  {
   "cell_type": "code",
   "execution_count": 25,
   "metadata": {},
   "outputs": [
    {
     "output_type": "stream",
     "name": "stdout",
     "text": [
      "3/3 [==============================] - 0s 3ms/step - loss: 5.7316\n"
     ]
    },
    {
     "output_type": "execute_result",
     "data": {
      "text/plain": [
       "5.731557369232178"
      ]
     },
     "metadata": {},
     "execution_count": 25
    }
   ],
   "source": [
    "acceleration_model.evaluate(test_data['Acceleration'], test_labels)"
   ]
  },
  {
   "cell_type": "code",
   "execution_count": 26,
   "metadata": {},
   "outputs": [],
   "source": [
    "# Linear Regression\n",
    "linear_model = tf.keras.Sequential([\n",
    "    normalizer,\n",
    "    tf.keras.layers.Dense(1)\n",
    "])"
   ]
  },
  {
   "cell_type": "code",
   "execution_count": 27,
   "metadata": {},
   "outputs": [],
   "source": [
    "linear_model.compile(optimizer=tf.keras.optimizers.Adam(learning_rate=0.1), loss='mae')"
   ]
  },
  {
   "cell_type": "code",
   "execution_count": 28,
   "metadata": {},
   "outputs": [
    {
     "output_type": "stream",
     "name": "stdout",
     "text": [
      "Epoch 1/100\n",
      "8/8 [==============================] - 1s 28ms/step - loss: 23.3390 - val_loss: 22.7200\n",
      "Epoch 2/100\n",
      "8/8 [==============================] - 0s 10ms/step - loss: 22.2660 - val_loss: 22.0078\n",
      "Epoch 3/100\n",
      "8/8 [==============================] - 0s 11ms/step - loss: 21.3151 - val_loss: 21.2846\n",
      "Epoch 4/100\n",
      "8/8 [==============================] - 0s 14ms/step - loss: 20.2820 - val_loss: 20.5647\n",
      "Epoch 5/100\n",
      "8/8 [==============================] - 0s 14ms/step - loss: 19.8815 - val_loss: 19.8155\n",
      "Epoch 6/100\n",
      "8/8 [==============================] - 0s 11ms/step - loss: 18.9470 - val_loss: 19.0932\n",
      "Epoch 7/100\n",
      "8/8 [==============================] - 0s 19ms/step - loss: 17.8632 - val_loss: 18.3855\n",
      "Epoch 8/100\n",
      "8/8 [==============================] - 0s 18ms/step - loss: 17.1881 - val_loss: 17.6210\n",
      "Epoch 9/100\n",
      "8/8 [==============================] - 0s 22ms/step - loss: 16.7342 - val_loss: 16.8902\n",
      "Epoch 10/100\n",
      "8/8 [==============================] - 0s 13ms/step - loss: 15.4215 - val_loss: 16.1754\n",
      "Epoch 11/100\n",
      "8/8 [==============================] - 0s 25ms/step - loss: 14.7607 - val_loss: 15.4425\n",
      "Epoch 12/100\n",
      "8/8 [==============================] - 0s 13ms/step - loss: 14.6807 - val_loss: 14.7207\n",
      "Epoch 13/100\n",
      "8/8 [==============================] - 0s 12ms/step - loss: 13.5711 - val_loss: 14.0251\n",
      "Epoch 14/100\n",
      "8/8 [==============================] - 0s 12ms/step - loss: 12.6737 - val_loss: 13.2740\n",
      "Epoch 15/100\n",
      "8/8 [==============================] - 0s 11ms/step - loss: 11.9478 - val_loss: 12.5212\n",
      "Epoch 16/100\n",
      "8/8 [==============================] - 0s 11ms/step - loss: 11.1766 - val_loss: 11.8188\n",
      "Epoch 17/100\n",
      "8/8 [==============================] - 0s 11ms/step - loss: 10.5322 - val_loss: 11.0759\n",
      "Epoch 18/100\n",
      "8/8 [==============================] - 0s 11ms/step - loss: 8.7593 - val_loss: 10.3668\n",
      "Epoch 19/100\n",
      "8/8 [==============================] - 0s 11ms/step - loss: 8.5355 - val_loss: 9.6182\n",
      "Epoch 20/100\n",
      "8/8 [==============================] - 0s 10ms/step - loss: 7.9033 - val_loss: 8.8936\n",
      "Epoch 21/100\n",
      "8/8 [==============================] - 0s 10ms/step - loss: 7.1278 - val_loss: 8.2067\n",
      "Epoch 22/100\n",
      "8/8 [==============================] - 0s 12ms/step - loss: 6.1272 - val_loss: 7.5537\n",
      "Epoch 23/100\n",
      "8/8 [==============================] - 0s 14ms/step - loss: 5.8986 - val_loss: 6.9537\n",
      "Epoch 24/100\n",
      "8/8 [==============================] - 0s 13ms/step - loss: 5.1530 - val_loss: 6.2737\n",
      "Epoch 25/100\n",
      "8/8 [==============================] - 0s 11ms/step - loss: 4.4847 - val_loss: 5.8008\n",
      "Epoch 26/100\n",
      "8/8 [==============================] - 0s 13ms/step - loss: 3.9479 - val_loss: 4.9561\n",
      "Epoch 27/100\n",
      "8/8 [==============================] - 0s 13ms/step - loss: 3.8774 - val_loss: 4.3538\n",
      "Epoch 28/100\n",
      "8/8 [==============================] - 0s 12ms/step - loss: 3.6701 - val_loss: 3.7381\n",
      "Epoch 29/100\n",
      "8/8 [==============================] - 0s 13ms/step - loss: 2.6699 - val_loss: 3.3722\n",
      "Epoch 30/100\n",
      "8/8 [==============================] - 0s 19ms/step - loss: 2.7668 - val_loss: 2.9575\n",
      "Epoch 31/100\n",
      "8/8 [==============================] - 0s 11ms/step - loss: 2.7702 - val_loss: 2.8642\n",
      "Epoch 32/100\n",
      "8/8 [==============================] - 0s 13ms/step - loss: 2.5850 - val_loss: 2.7508\n",
      "Epoch 33/100\n",
      "8/8 [==============================] - 0s 14ms/step - loss: 2.5093 - val_loss: 2.6840\n",
      "Epoch 34/100\n",
      "8/8 [==============================] - 0s 15ms/step - loss: 2.6616 - val_loss: 2.7076\n",
      "Epoch 35/100\n",
      "8/8 [==============================] - 0s 10ms/step - loss: 2.5196 - val_loss: 2.6246\n",
      "Epoch 36/100\n",
      "8/8 [==============================] - 0s 14ms/step - loss: 2.4478 - val_loss: 2.5974\n",
      "Epoch 37/100\n",
      "8/8 [==============================] - 0s 12ms/step - loss: 2.5540 - val_loss: 2.5623\n",
      "Epoch 38/100\n",
      "8/8 [==============================] - 0s 15ms/step - loss: 2.4936 - val_loss: 2.5317\n",
      "Epoch 39/100\n",
      "8/8 [==============================] - 0s 14ms/step - loss: 2.3755 - val_loss: 2.5340\n",
      "Epoch 40/100\n",
      "8/8 [==============================] - 0s 13ms/step - loss: 2.7328 - val_loss: 2.5601\n",
      "Epoch 41/100\n",
      "8/8 [==============================] - 0s 22ms/step - loss: 2.4522 - val_loss: 2.5156\n",
      "Epoch 42/100\n",
      "8/8 [==============================] - 0s 15ms/step - loss: 2.5473 - val_loss: 2.5151\n",
      "Epoch 43/100\n",
      "8/8 [==============================] - 0s 20ms/step - loss: 2.3561 - val_loss: 2.5001\n",
      "Epoch 44/100\n",
      "8/8 [==============================] - 0s 11ms/step - loss: 2.6794 - val_loss: 2.5015\n",
      "Epoch 45/100\n",
      "8/8 [==============================] - 0s 15ms/step - loss: 2.5585 - val_loss: 2.5256\n",
      "Epoch 46/100\n",
      "8/8 [==============================] - 0s 16ms/step - loss: 2.5695 - val_loss: 2.4959\n",
      "Epoch 47/100\n",
      "8/8 [==============================] - 0s 15ms/step - loss: 2.3912 - val_loss: 2.4993\n",
      "Epoch 48/100\n",
      "8/8 [==============================] - 0s 12ms/step - loss: 2.5021 - val_loss: 2.4825\n",
      "Epoch 49/100\n",
      "8/8 [==============================] - 0s 13ms/step - loss: 2.6985 - val_loss: 2.5097\n",
      "Epoch 50/100\n",
      "8/8 [==============================] - 0s 14ms/step - loss: 2.7637 - val_loss: 2.4781\n",
      "Epoch 51/100\n",
      "8/8 [==============================] - 0s 17ms/step - loss: 2.4337 - val_loss: 2.4825\n",
      "Epoch 52/100\n",
      "8/8 [==============================] - 0s 13ms/step - loss: 2.3633 - val_loss: 2.4948\n",
      "Epoch 53/100\n",
      "8/8 [==============================] - 0s 14ms/step - loss: 2.4202 - val_loss: 2.4828\n",
      "Epoch 54/100\n",
      "8/8 [==============================] - 0s 12ms/step - loss: 2.5603 - val_loss: 2.4972\n",
      "Epoch 55/100\n",
      "8/8 [==============================] - 0s 19ms/step - loss: 2.4371 - val_loss: 2.4999\n",
      "Epoch 56/100\n",
      "8/8 [==============================] - 0s 13ms/step - loss: 2.4049 - val_loss: 2.4822\n",
      "Epoch 57/100\n",
      "8/8 [==============================] - 0s 13ms/step - loss: 2.4389 - val_loss: 2.5042\n",
      "Epoch 58/100\n",
      "8/8 [==============================] - 0s 12ms/step - loss: 2.5088 - val_loss: 2.4769\n",
      "Epoch 59/100\n",
      "8/8 [==============================] - 0s 13ms/step - loss: 2.4439 - val_loss: 2.4928\n",
      "Epoch 60/100\n",
      "8/8 [==============================] - 0s 14ms/step - loss: 2.2669 - val_loss: 2.4707\n",
      "Epoch 61/100\n",
      "8/8 [==============================] - 0s 19ms/step - loss: 2.4834 - val_loss: 2.5250\n",
      "Epoch 62/100\n",
      "8/8 [==============================] - 0s 16ms/step - loss: 2.5835 - val_loss: 2.4821\n",
      "Epoch 63/100\n",
      "8/8 [==============================] - 0s 12ms/step - loss: 2.4862 - val_loss: 2.4778\n",
      "Epoch 64/100\n",
      "8/8 [==============================] - 0s 11ms/step - loss: 2.4161 - val_loss: 2.5237\n",
      "Epoch 65/100\n",
      "8/8 [==============================] - 0s 10ms/step - loss: 2.5666 - val_loss: 2.4674\n",
      "Epoch 66/100\n",
      "8/8 [==============================] - 0s 12ms/step - loss: 2.6478 - val_loss: 2.5358\n",
      "Epoch 67/100\n",
      "8/8 [==============================] - 0s 9ms/step - loss: 2.4955 - val_loss: 2.4670\n",
      "Epoch 68/100\n",
      "8/8 [==============================] - 0s 10ms/step - loss: 2.5476 - val_loss: 2.4932\n",
      "Epoch 69/100\n",
      "8/8 [==============================] - 0s 10ms/step - loss: 2.5289 - val_loss: 2.4773\n",
      "Epoch 70/100\n",
      "8/8 [==============================] - 0s 10ms/step - loss: 2.4389 - val_loss: 2.4856\n",
      "Epoch 71/100\n",
      "8/8 [==============================] - 0s 15ms/step - loss: 2.5195 - val_loss: 2.4683\n",
      "Epoch 72/100\n",
      "8/8 [==============================] - 0s 11ms/step - loss: 2.3924 - val_loss: 2.4788\n",
      "Epoch 73/100\n",
      "8/8 [==============================] - 0s 13ms/step - loss: 2.5981 - val_loss: 2.4627\n",
      "Epoch 74/100\n",
      "8/8 [==============================] - 0s 10ms/step - loss: 2.5396 - val_loss: 2.5240\n",
      "Epoch 75/100\n",
      "8/8 [==============================] - 0s 12ms/step - loss: 2.4887 - val_loss: 2.4831\n",
      "Epoch 76/100\n",
      "8/8 [==============================] - 0s 10ms/step - loss: 2.6457 - val_loss: 2.4944\n",
      "Epoch 77/100\n",
      "8/8 [==============================] - 0s 13ms/step - loss: 2.3836 - val_loss: 2.4885\n",
      "Epoch 78/100\n",
      "8/8 [==============================] - 0s 24ms/step - loss: 2.3879 - val_loss: 2.4770\n",
      "Epoch 79/100\n",
      "8/8 [==============================] - 0s 15ms/step - loss: 2.4410 - val_loss: 2.4603\n",
      "Epoch 80/100\n",
      "8/8 [==============================] - 0s 15ms/step - loss: 2.6966 - val_loss: 2.4775\n",
      "Epoch 81/100\n",
      "8/8 [==============================] - 0s 13ms/step - loss: 2.5211 - val_loss: 2.4813\n",
      "Epoch 82/100\n",
      "8/8 [==============================] - 0s 22ms/step - loss: 2.5357 - val_loss: 2.4705\n",
      "Epoch 83/100\n",
      "8/8 [==============================] - 0s 13ms/step - loss: 2.5417 - val_loss: 2.4796\n",
      "Epoch 84/100\n",
      "8/8 [==============================] - 0s 18ms/step - loss: 2.5251 - val_loss: 2.4605\n",
      "Epoch 85/100\n",
      "8/8 [==============================] - 0s 12ms/step - loss: 2.3219 - val_loss: 2.4831\n",
      "Epoch 86/100\n",
      "8/8 [==============================] - 0s 12ms/step - loss: 2.4606 - val_loss: 2.4530\n",
      "Epoch 87/100\n",
      "8/8 [==============================] - 0s 15ms/step - loss: 2.5160 - val_loss: 2.4690\n",
      "Epoch 88/100\n",
      "8/8 [==============================] - 0s 11ms/step - loss: 2.3622 - val_loss: 2.4564\n",
      "Epoch 89/100\n",
      "8/8 [==============================] - 0s 14ms/step - loss: 2.5724 - val_loss: 2.5221\n",
      "Epoch 90/100\n",
      "8/8 [==============================] - 0s 14ms/step - loss: 2.2835 - val_loss: 2.4556\n",
      "Epoch 91/100\n",
      "8/8 [==============================] - 0s 14ms/step - loss: 2.0525 - val_loss: 2.5221\n",
      "Epoch 92/100\n",
      "8/8 [==============================] - 0s 13ms/step - loss: 2.6243 - val_loss: 2.4672\n",
      "Epoch 93/100\n",
      "8/8 [==============================] - 0s 18ms/step - loss: 2.5537 - val_loss: 2.4817\n",
      "Epoch 94/100\n",
      "8/8 [==============================] - 0s 11ms/step - loss: 2.3750 - val_loss: 2.4532\n",
      "Epoch 95/100\n",
      "8/8 [==============================] - 0s 12ms/step - loss: 2.4400 - val_loss: 2.5013\n",
      "Epoch 96/100\n",
      "8/8 [==============================] - 0s 14ms/step - loss: 2.4250 - val_loss: 2.4712\n",
      "Epoch 97/100\n",
      "8/8 [==============================] - 0s 11ms/step - loss: 2.5605 - val_loss: 2.4904\n",
      "Epoch 98/100\n",
      "8/8 [==============================] - 0s 12ms/step - loss: 2.7152 - val_loss: 2.4585\n",
      "Epoch 99/100\n",
      "8/8 [==============================] - 0s 24ms/step - loss: 2.7038 - val_loss: 2.4619\n",
      "Epoch 100/100\n",
      "8/8 [==============================] - 0s 12ms/step - loss: 2.5294 - val_loss: 2.5278\n"
     ]
    },
    {
     "output_type": "execute_result",
     "data": {
      "text/plain": [
       "<tensorflow.python.keras.callbacks.History at 0x7fcf4f1bf610>"
      ]
     },
     "metadata": {},
     "execution_count": 28
    }
   ],
   "source": [
    "linear_model.fit(train_features, train_labels, epochs=100, validation_split=0.2)"
   ]
  },
  {
   "cell_type": "code",
   "execution_count": 29,
   "metadata": {},
   "outputs": [
    {
     "output_type": "stream",
     "name": "stdout",
     "text": [
      "3/3 [==============================] - 0s 3ms/step - loss: 2.5726\n"
     ]
    },
    {
     "output_type": "execute_result",
     "data": {
      "text/plain": [
       "2.5725760459899902"
      ]
     },
     "metadata": {},
     "execution_count": 29
    }
   ],
   "source": [
    "linear_model.evaluate(test_features, test_labels)"
   ]
  },
  {
   "cell_type": "code",
   "execution_count": 36,
   "metadata": {},
   "outputs": [],
   "source": [
    "def build_and_compile_model(norm):\n",
    "    model = tf.keras.Sequential([\n",
    "        norm,\n",
    "        tf.keras.layers.Dense(64, activation='relu'),\n",
    "        tf.keras.layers.Dense(64, activation='relu'),\n",
    "        tf.keras.layers.Dense(1)\n",
    "    ])\n",
    "    model.compile(optimizer=tf.keras.optimizers.Adam(learning_rate=0.1), loss='mae')\n",
    "    return model"
   ]
  },
  {
   "cell_type": "code",
   "execution_count": 37,
   "metadata": {},
   "outputs": [],
   "source": [
    "dnn = build_and_compile_model(normalizer)"
   ]
  },
  {
   "cell_type": "code",
   "execution_count": 38,
   "metadata": {},
   "outputs": [
    {
     "output_type": "stream",
     "name": "stdout",
     "text": [
      "Epoch 1/100\n",
      "8/8 [==============================] - 1s 31ms/step - loss: 17.3596 - val_loss: 15.3922\n",
      "Epoch 2/100\n",
      "8/8 [==============================] - 0s 10ms/step - loss: 10.9098 - val_loss: 6.7102\n",
      "Epoch 3/100\n",
      "8/8 [==============================] - 0s 13ms/step - loss: 5.3892 - val_loss: 3.3032\n",
      "Epoch 4/100\n",
      "8/8 [==============================] - 0s 11ms/step - loss: 4.6686 - val_loss: 4.6193\n",
      "Epoch 5/100\n",
      "8/8 [==============================] - 0s 11ms/step - loss: 3.6514 - val_loss: 3.4842\n",
      "Epoch 6/100\n",
      "8/8 [==============================] - 0s 11ms/step - loss: 2.8261 - val_loss: 2.5001\n",
      "Epoch 7/100\n",
      "8/8 [==============================] - 0s 12ms/step - loss: 2.1434 - val_loss: 2.7913\n",
      "Epoch 8/100\n",
      "8/8 [==============================] - 0s 10ms/step - loss: 2.5093 - val_loss: 2.3137\n",
      "Epoch 9/100\n",
      "8/8 [==============================] - 0s 10ms/step - loss: 2.0185 - val_loss: 2.0937\n",
      "Epoch 10/100\n",
      "8/8 [==============================] - 0s 12ms/step - loss: 2.0914 - val_loss: 2.2526\n",
      "Epoch 11/100\n",
      "8/8 [==============================] - 0s 11ms/step - loss: 2.3094 - val_loss: 3.0936\n",
      "Epoch 12/100\n",
      "8/8 [==============================] - 0s 15ms/step - loss: 2.5131 - val_loss: 2.2352\n",
      "Epoch 13/100\n",
      "8/8 [==============================] - 0s 14ms/step - loss: 2.1179 - val_loss: 2.2016\n",
      "Epoch 14/100\n",
      "8/8 [==============================] - 0s 11ms/step - loss: 2.5147 - val_loss: 2.4518\n",
      "Epoch 15/100\n",
      "8/8 [==============================] - 0s 26ms/step - loss: 2.3800 - val_loss: 2.9554\n",
      "Epoch 16/100\n",
      "8/8 [==============================] - 0s 18ms/step - loss: 2.2227 - val_loss: 2.3042\n",
      "Epoch 17/100\n",
      "8/8 [==============================] - 0s 15ms/step - loss: 2.2748 - val_loss: 2.5494\n",
      "Epoch 18/100\n",
      "8/8 [==============================] - 0s 12ms/step - loss: 1.9878 - val_loss: 2.8265\n",
      "Epoch 19/100\n",
      "8/8 [==============================] - 0s 13ms/step - loss: 2.7023 - val_loss: 3.6140\n",
      "Epoch 20/100\n",
      "8/8 [==============================] - 0s 13ms/step - loss: 2.7947 - val_loss: 3.1800\n",
      "Epoch 21/100\n",
      "8/8 [==============================] - 0s 13ms/step - loss: 2.3066 - val_loss: 2.7764\n",
      "Epoch 22/100\n",
      "8/8 [==============================] - 0s 14ms/step - loss: 2.5400 - val_loss: 2.7593\n",
      "Epoch 23/100\n",
      "8/8 [==============================] - 0s 11ms/step - loss: 3.3260 - val_loss: 2.8184\n",
      "Epoch 24/100\n",
      "8/8 [==============================] - 0s 13ms/step - loss: 3.5324 - val_loss: 2.9019\n",
      "Epoch 25/100\n",
      "8/8 [==============================] - 0s 15ms/step - loss: 3.1695 - val_loss: 3.1051\n",
      "Epoch 26/100\n",
      "8/8 [==============================] - 0s 13ms/step - loss: 2.7273 - val_loss: 3.5915\n",
      "Epoch 27/100\n",
      "8/8 [==============================] - 0s 12ms/step - loss: 2.3435 - val_loss: 2.3032\n",
      "Epoch 28/100\n",
      "8/8 [==============================] - 0s 11ms/step - loss: 2.2595 - val_loss: 3.2378\n",
      "Epoch 29/100\n",
      "8/8 [==============================] - 0s 12ms/step - loss: 2.5639 - val_loss: 2.4397\n",
      "Epoch 30/100\n",
      "8/8 [==============================] - 0s 18ms/step - loss: 2.2671 - val_loss: 2.8556\n",
      "Epoch 31/100\n",
      "8/8 [==============================] - 0s 11ms/step - loss: 2.7732 - val_loss: 3.2750\n",
      "Epoch 32/100\n",
      "8/8 [==============================] - 0s 11ms/step - loss: 2.6165 - val_loss: 2.6659\n",
      "Epoch 33/100\n",
      "8/8 [==============================] - 0s 13ms/step - loss: 2.1159 - val_loss: 2.7497\n",
      "Epoch 34/100\n",
      "8/8 [==============================] - 0s 11ms/step - loss: 1.7781 - val_loss: 2.3500\n",
      "Epoch 35/100\n",
      "8/8 [==============================] - 0s 12ms/step - loss: 1.8611 - val_loss: 2.3913\n",
      "Epoch 36/100\n",
      "8/8 [==============================] - 0s 18ms/step - loss: 2.1515 - val_loss: 3.1752\n",
      "Epoch 37/100\n",
      "8/8 [==============================] - 0s 13ms/step - loss: 2.7575 - val_loss: 3.0639\n",
      "Epoch 38/100\n",
      "8/8 [==============================] - 0s 14ms/step - loss: 2.3441 - val_loss: 2.4147\n",
      "Epoch 39/100\n",
      "8/8 [==============================] - 0s 12ms/step - loss: 1.7789 - val_loss: 2.1568\n",
      "Epoch 40/100\n",
      "8/8 [==============================] - 0s 11ms/step - loss: 1.7146 - val_loss: 2.1178\n",
      "Epoch 41/100\n",
      "8/8 [==============================] - 0s 12ms/step - loss: 1.8564 - val_loss: 2.2497\n",
      "Epoch 42/100\n",
      "8/8 [==============================] - 0s 11ms/step - loss: 1.6783 - val_loss: 2.1849\n",
      "Epoch 43/100\n",
      "8/8 [==============================] - 0s 18ms/step - loss: 1.8359 - val_loss: 2.2123\n",
      "Epoch 44/100\n",
      "8/8 [==============================] - 0s 11ms/step - loss: 1.8796 - val_loss: 2.7358\n",
      "Epoch 45/100\n",
      "8/8 [==============================] - 0s 12ms/step - loss: 2.4334 - val_loss: 2.5348\n",
      "Epoch 46/100\n",
      "8/8 [==============================] - 0s 12ms/step - loss: 2.0453 - val_loss: 2.0868\n",
      "Epoch 47/100\n",
      "8/8 [==============================] - 0s 12ms/step - loss: 1.7376 - val_loss: 2.3574\n",
      "Epoch 48/100\n",
      "8/8 [==============================] - 0s 12ms/step - loss: 1.8805 - val_loss: 2.5074\n",
      "Epoch 49/100\n",
      "8/8 [==============================] - 0s 11ms/step - loss: 1.9154 - val_loss: 2.0217\n",
      "Epoch 50/100\n",
      "8/8 [==============================] - 0s 10ms/step - loss: 1.9117 - val_loss: 2.7123\n",
      "Epoch 51/100\n",
      "8/8 [==============================] - 0s 13ms/step - loss: 2.2277 - val_loss: 2.6876\n",
      "Epoch 52/100\n",
      "8/8 [==============================] - 0s 10ms/step - loss: 1.8338 - val_loss: 2.5218\n",
      "Epoch 53/100\n",
      "8/8 [==============================] - 0s 16ms/step - loss: 2.0922 - val_loss: 3.0724\n",
      "Epoch 54/100\n",
      "8/8 [==============================] - 0s 13ms/step - loss: 2.0126 - val_loss: 2.5267\n",
      "Epoch 55/100\n",
      "8/8 [==============================] - 0s 13ms/step - loss: 2.1110 - val_loss: 2.5860\n",
      "Epoch 56/100\n",
      "8/8 [==============================] - 0s 34ms/step - loss: 1.7539 - val_loss: 2.1644\n",
      "Epoch 57/100\n",
      "8/8 [==============================] - 0s 13ms/step - loss: 1.6955 - val_loss: 2.2799\n",
      "Epoch 58/100\n",
      "8/8 [==============================] - 0s 14ms/step - loss: 1.7214 - val_loss: 2.0862\n",
      "Epoch 59/100\n",
      "8/8 [==============================] - 0s 13ms/step - loss: 1.8367 - val_loss: 2.1027\n",
      "Epoch 60/100\n",
      "8/8 [==============================] - 0s 17ms/step - loss: 1.6318 - val_loss: 2.3038\n",
      "Epoch 61/100\n",
      "8/8 [==============================] - 0s 14ms/step - loss: 1.9269 - val_loss: 2.4211\n",
      "Epoch 62/100\n",
      "8/8 [==============================] - 0s 11ms/step - loss: 2.0195 - val_loss: 2.0538\n",
      "Epoch 63/100\n",
      "8/8 [==============================] - 0s 12ms/step - loss: 1.7559 - val_loss: 2.3371\n",
      "Epoch 64/100\n",
      "8/8 [==============================] - 0s 19ms/step - loss: 1.7241 - val_loss: 2.4431\n",
      "Epoch 65/100\n",
      "8/8 [==============================] - 0s 15ms/step - loss: 1.9047 - val_loss: 2.2528\n",
      "Epoch 66/100\n",
      "8/8 [==============================] - 0s 12ms/step - loss: 2.2593 - val_loss: 3.2386\n",
      "Epoch 67/100\n",
      "8/8 [==============================] - 0s 13ms/step - loss: 2.2545 - val_loss: 2.3511\n",
      "Epoch 68/100\n",
      "8/8 [==============================] - 0s 12ms/step - loss: 2.0556 - val_loss: 2.7326\n",
      "Epoch 69/100\n",
      "8/8 [==============================] - 0s 15ms/step - loss: 1.8852 - val_loss: 2.4008\n",
      "Epoch 70/100\n",
      "8/8 [==============================] - 0s 16ms/step - loss: 1.7665 - val_loss: 2.1114\n",
      "Epoch 71/100\n",
      "8/8 [==============================] - 0s 12ms/step - loss: 2.0956 - val_loss: 2.7261\n",
      "Epoch 72/100\n",
      "8/8 [==============================] - 0s 10ms/step - loss: 2.1875 - val_loss: 2.3000\n",
      "Epoch 73/100\n",
      "8/8 [==============================] - 0s 17ms/step - loss: 1.7124 - val_loss: 2.2822\n",
      "Epoch 74/100\n",
      "8/8 [==============================] - 0s 11ms/step - loss: 1.7879 - val_loss: 2.3205\n",
      "Epoch 75/100\n",
      "8/8 [==============================] - 0s 12ms/step - loss: 1.9980 - val_loss: 2.2842\n",
      "Epoch 76/100\n",
      "8/8 [==============================] - 0s 12ms/step - loss: 1.6672 - val_loss: 2.1886\n",
      "Epoch 77/100\n",
      "8/8 [==============================] - 0s 12ms/step - loss: 1.6895 - val_loss: 2.2761\n",
      "Epoch 78/100\n",
      "8/8 [==============================] - 0s 12ms/step - loss: 1.7751 - val_loss: 1.9980\n",
      "Epoch 79/100\n",
      "8/8 [==============================] - 0s 19ms/step - loss: 1.7826 - val_loss: 2.4212\n",
      "Epoch 80/100\n",
      "8/8 [==============================] - 0s 15ms/step - loss: 1.9825 - val_loss: 2.4361\n",
      "Epoch 81/100\n",
      "8/8 [==============================] - 0s 14ms/step - loss: 1.6921 - val_loss: 2.1503\n",
      "Epoch 82/100\n",
      "8/8 [==============================] - 0s 14ms/step - loss: 1.7221 - val_loss: 2.3303\n",
      "Epoch 83/100\n",
      "8/8 [==============================] - 0s 13ms/step - loss: 1.7764 - val_loss: 2.4209\n",
      "Epoch 84/100\n",
      "8/8 [==============================] - 0s 13ms/step - loss: 1.8136 - val_loss: 2.0197\n",
      "Epoch 85/100\n",
      "8/8 [==============================] - 0s 17ms/step - loss: 1.7646 - val_loss: 2.5467\n",
      "Epoch 86/100\n",
      "8/8 [==============================] - 0s 11ms/step - loss: 1.5898 - val_loss: 2.3366\n",
      "Epoch 87/100\n",
      "8/8 [==============================] - 0s 13ms/step - loss: 1.6562 - val_loss: 2.3753\n",
      "Epoch 88/100\n",
      "8/8 [==============================] - 0s 13ms/step - loss: 1.7952 - val_loss: 2.1908\n",
      "Epoch 89/100\n",
      "8/8 [==============================] - 0s 13ms/step - loss: 1.6013 - val_loss: 2.0708\n",
      "Epoch 90/100\n",
      "8/8 [==============================] - 0s 18ms/step - loss: 1.7010 - val_loss: 2.6077\n",
      "Epoch 91/100\n",
      "8/8 [==============================] - 0s 13ms/step - loss: 1.5777 - val_loss: 2.3921\n",
      "Epoch 92/100\n",
      "8/8 [==============================] - 0s 14ms/step - loss: 1.4540 - val_loss: 2.4545\n",
      "Epoch 93/100\n",
      "8/8 [==============================] - 0s 26ms/step - loss: 1.7780 - val_loss: 2.5621\n",
      "Epoch 94/100\n",
      "8/8 [==============================] - 0s 14ms/step - loss: 1.6901 - val_loss: 2.2588\n",
      "Epoch 95/100\n",
      "8/8 [==============================] - 0s 14ms/step - loss: 1.6288 - val_loss: 2.2832\n",
      "Epoch 96/100\n",
      "8/8 [==============================] - 0s 12ms/step - loss: 1.6516 - val_loss: 2.5026\n",
      "Epoch 97/100\n",
      "8/8 [==============================] - 0s 13ms/step - loss: 1.6847 - val_loss: 2.7224\n",
      "Epoch 98/100\n",
      "8/8 [==============================] - 0s 11ms/step - loss: 1.9545 - val_loss: 2.4489\n",
      "Epoch 99/100\n",
      "8/8 [==============================] - 0s 12ms/step - loss: 1.9233 - val_loss: 2.0801\n",
      "Epoch 100/100\n",
      "8/8 [==============================] - 0s 12ms/step - loss: 1.5682 - val_loss: 2.4292\n"
     ]
    },
    {
     "output_type": "execute_result",
     "data": {
      "text/plain": [
       "<tensorflow.python.keras.callbacks.History at 0x7fcf4de6b2e0>"
      ]
     },
     "metadata": {},
     "execution_count": 38
    }
   ],
   "source": [
    "dnn.fit(train_features, train_labels, epochs=100, validation_split=0.2)"
   ]
  },
  {
   "cell_type": "code",
   "execution_count": 39,
   "metadata": {},
   "outputs": [
    {
     "output_type": "stream",
     "name": "stdout",
     "text": [
      "3/3 [==============================] - 0s 6ms/step - loss: 1.8848\n"
     ]
    },
    {
     "output_type": "execute_result",
     "data": {
      "text/plain": [
       "1.8848083019256592"
      ]
     },
     "metadata": {},
     "execution_count": 39
    }
   ],
   "source": [
    "dnn.evaluate(test_features, test_labels)"
   ]
  },
  {
   "cell_type": "code",
   "execution_count": null,
   "metadata": {},
   "outputs": [],
   "source": []
  }
 ]
}